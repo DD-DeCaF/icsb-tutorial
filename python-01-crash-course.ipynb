{
 "cells": [
  {
   "cell_type": "markdown",
   "metadata": {},
   "source": [
    "# Programming with Python and the Jupyter notebook"
   ]
  },
  {
   "cell_type": "markdown",
   "metadata": {},
   "source": [
    "This lesson is a very brief introduction to Python and the Jupyter notebook, aiming to give you the bare essentials needed to follow our tutorial on cobrapy, escher and cameo.\n",
    "\n",
    "We assume that you have Jupyter installed and running, or using it via our online interactive server, please look elsewhere for getting to this point, e.g. [this comprehensive tutorial](https://www.datacamp.com/community/tutorials/tutorial-jupyter-notebook#gs.mVNYmI4)"
   ]
  },
  {
   "cell_type": "markdown",
   "metadata": {},
   "source": [
    "The notebook is made up by 'cells' which are either python code or markdown (like this one).\n",
    "\n",
    "- If you press “esc” and “return” alternately, the outer border of your code cell will change from gray to green. The difference in color is subtle.\n",
    "  - These are the control (gray) and edit (green) modes of your notebook.\n",
    "- If you use the “esc” and “return” keys to make the surround gray and then press the “h” key, a list of all the shortcut keys will appear.\n",
    "- When in control mode (esc/gray),\n",
    "  - The “B” key will make a new cell below the currently selected cell.\n",
    "  - The “A” key will make one above.\n",
    "  - The “X” key will delete the current cell.\n",
    "- There are lots of shortcuts you can try out and most actions can be done with the menus at the top of the page if you forget the shortcuts.\n",
    "- If you remember the “esc” and “H” shortcut, you will be able to find out all the rest."
   ]
  }
 ],
 "metadata": {
  "kernelspec": {
   "display_name": "Python 3",
   "language": "python",
   "name": "python3"
  },
  "language_info": {
   "codemirror_mode": {
    "name": "ipython",
    "version": 3
   },
   "file_extension": ".py",
   "mimetype": "text/x-python",
   "name": "python",
   "nbconvert_exporter": "python",
   "pygments_lexer": "ipython3",
   "version": "3.6.0"
  }
 },
 "nbformat": 4,
 "nbformat_minor": 2
}
